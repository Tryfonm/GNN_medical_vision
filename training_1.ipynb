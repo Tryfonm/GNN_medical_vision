{
 "cells": [
  {
   "cell_type": "code",
   "execution_count": 1,
   "metadata": {},
   "outputs": [],
   "source": [
    "from src.main.graph_generation import main\n",
    "\n",
    "import numpy as numpy\n",
    "import nibabel as nib\n",
    "import torch\n",
    "import glob\n",
    "import matplotlib.pyplot as plt\n",
    "from matplotlib.widgets import Slider\n",
    "from sklearn.preprocessing import MinMaxScaler\n",
    "\n",
    "import numpy as np\n",
    "from skimage.segmentation import slic\n",
    "import numpy as np\n",
    "from collections import Counter\n",
    "from torch.utils.data import random_split"
   ]
  },
  {
   "cell_type": "code",
   "execution_count": 2,
   "metadata": {},
   "outputs": [],
   "source": [
    "import os\n",
    "import torch\n",
    "from torch_geometric.data import Dataset\n",
    "\n",
    "from src.main.data import CustomGraphDataset\n",
    "\n",
    "dataset = CustomGraphDataset(root=\"data/processed/c0_03__s1000/\")\n",
    "# for data in dataset:\n",
    "#     print(data)"
   ]
  },
  {
   "cell_type": "code",
   "execution_count": null,
   "metadata": {},
   "outputs": [],
   "source": []
  },
  {
   "cell_type": "code",
   "execution_count": null,
   "metadata": {},
   "outputs": [],
   "source": []
  },
  {
   "cell_type": "code",
   "execution_count": 3,
   "metadata": {},
   "outputs": [
    {
     "data": {
      "text/plain": [
       "295"
      ]
     },
     "execution_count": 3,
     "metadata": {},
     "output_type": "execute_result"
    }
   ],
   "source": []
  },
  {
   "cell_type": "code",
   "execution_count": 6,
   "metadata": {},
   "outputs": [
    {
     "data": {
      "text/plain": [
       "DataBatch(x=[2533, 4], edge_index=[2, 49213], edge_attr=[49213, 1], y=[2533], batch=[2533], ptr=[5])"
      ]
     },
     "execution_count": 6,
     "metadata": {},
     "output_type": "execute_result"
    }
   ],
   "source": [
    "from torch_geometric.loader import DataLoader\n",
    "\n",
    "dataloader = DataLoader(dataset, batch_size=4, shuffle=False)\n",
    "next(iter(dataloader))"
   ]
  },
  {
   "cell_type": "code",
   "execution_count": 7,
   "metadata": {},
   "outputs": [],
   "source": [
    "import torch\n",
    "import torch.nn.functional as F\n",
    "from torch_geometric.nn import GCNConv\n",
    "\n",
    "class GCN(torch.nn.Module):\n",
    "    def __init__(self, num_features, num_classes):\n",
    "        super(GCN, self).__init__()\n",
    "        self.conv1 = GCNConv(num_features, 256)\n",
    "        self.conv2 = GCNConv(256, 16)\n",
    "        self.conv3 = GCNConv(16, num_classes)\n",
    "\n",
    "    def forward(self, graph):\n",
    "        \n",
    "        x, edge_index, edge_attr = graph.x.to(torch.float), graph.edge_index.to(torch.int64), graph.edge_attr.to(torch.float)\n",
    "        x = self.conv1(x, edge_index)\n",
    "        x = F.relu(x)\n",
    "        x = F.dropout(x, training=self.training)\n",
    "        x = self.conv2(x, edge_index)\n",
    "        x = F.relu(x)\n",
    "        x = self.conv3(x, edge_index)\n",
    "        return F.log_softmax(x, dim=1)\n",
    "\n",
    "# model_test = GCN(num_features=4, num_classes=4).to('cuda')"
   ]
  },
  {
   "cell_type": "code",
   "execution_count": 8,
   "metadata": {},
   "outputs": [],
   "source": [
    "train_ratio = 0.75\n",
    "train_size = int(train_ratio * len(dataset))\n",
    "val_size = len(dataset) - train_size\n",
    "\n",
    "# Split the dataset\n",
    "train_dataset, val_dataset = random_split(dataset, [train_size, val_size])"
   ]
  },
  {
   "cell_type": "code",
   "execution_count": 9,
   "metadata": {},
   "outputs": [
    {
     "data": {
      "text/plain": [
       "(221, 74)"
      ]
     },
     "execution_count": 9,
     "metadata": {},
     "output_type": "execute_result"
    }
   ],
   "source": [
    "len(train_dataset), len(val_dataset)"
   ]
  },
  {
   "cell_type": "code",
   "execution_count": 10,
   "metadata": {},
   "outputs": [],
   "source": [
    "all_labels = []\n",
    "for batch in dataloader:\n",
    "    all_labels.extend(batch.y.numpy())\n",
    "\n",
    "class_counts = Counter(all_labels)\n",
    "total_count = float(sum(class_counts.values()))\n",
    "class_weights = {cls: total_count / count for cls, count in class_counts.items()}\n",
    "weights = torch.tensor([class_weights[i] for i in range(4)], dtype=torch.float32).to(\"cuda\")\n"
   ]
  },
  {
   "cell_type": "code",
   "execution_count": 11,
   "metadata": {},
   "outputs": [
    {
     "name": "stdout",
     "output_type": "stream",
     "text": [
      "Epoch 0 | Train Loss: 1.374 | Train Accuracy: 0.4527 | Val Loss: 1.365 | Val Accuracy: 0.5065\n",
      "Epoch 10 | Train Loss: 1.219 | Train Accuracy: 0.7341 | Val Loss: 1.252 | Val Accuracy: 0.5416\n",
      "Epoch 20 | Train Loss: 1.207 | Train Accuracy: 0.6644 | Val Loss: 1.239 | Val Accuracy: 0.8274\n",
      "Epoch 30 | Train Loss: 1.200 | Train Accuracy: 0.7117 | Val Loss: 1.199 | Val Accuracy: 0.6747\n",
      "Epoch 40 | Train Loss: 1.186 | Train Accuracy: 0.7337 | Val Loss: 1.202 | Val Accuracy: 0.7521\n",
      "Epoch 50 | Train Loss: 1.184 | Train Accuracy: 0.6767 | Val Loss: 1.215 | Val Accuracy: 0.7861\n",
      "Epoch 60 | Train Loss: 1.176 | Train Accuracy: 0.6913 | Val Loss: 1.200 | Val Accuracy: 0.7719\n",
      "Epoch 70 | Train Loss: 1.177 | Train Accuracy: 0.6467 | Val Loss: 1.221 | Val Accuracy: 0.7875\n",
      "Epoch 80 | Train Loss: 1.167 | Train Accuracy: 0.7070 | Val Loss: 1.209 | Val Accuracy: 0.7885\n",
      "Epoch 90 | Train Loss: 1.159 | Train Accuracy: 0.7287 | Val Loss: 1.209 | Val Accuracy: 0.6938\n",
      "Epoch 100 | Train Loss: 1.154 | Train Accuracy: 0.6883 | Val Loss: 1.201 | Val Accuracy: 0.8322\n",
      "Epoch 110 | Train Loss: 1.134 | Train Accuracy: 0.7564 | Val Loss: 1.189 | Val Accuracy: 0.7890\n",
      "Epoch 120 | Train Loss: 1.144 | Train Accuracy: 0.7534 | Val Loss: 1.190 | Val Accuracy: 0.7749\n",
      "Epoch 130 | Train Loss: 1.125 | Train Accuracy: 0.7411 | Val Loss: 1.216 | Val Accuracy: 0.8178\n",
      "Epoch 140 | Train Loss: 1.136 | Train Accuracy: 0.6834 | Val Loss: 1.205 | Val Accuracy: 0.8424\n",
      "Epoch 150 | Train Loss: 1.124 | Train Accuracy: 0.7550 | Val Loss: 1.197 | Val Accuracy: 0.8147\n",
      "Epoch 160 | Train Loss: 1.126 | Train Accuracy: 0.7039 | Val Loss: 1.184 | Val Accuracy: 0.7856\n",
      "Epoch 170 | Train Loss: 1.107 | Train Accuracy: 0.7913 | Val Loss: 1.169 | Val Accuracy: 0.7728\n",
      "Epoch 180 | Train Loss: 1.101 | Train Accuracy: 0.7752 | Val Loss: 1.179 | Val Accuracy: 0.7907\n",
      "Epoch 190 | Train Loss: 1.125 | Train Accuracy: 0.7770 | Val Loss: 1.181 | Val Accuracy: 0.7630\n",
      "Epoch 200 | Train Loss: 1.092 | Train Accuracy: 0.7630 | Val Loss: 1.179 | Val Accuracy: 0.7516\n",
      "Epoch 210 | Train Loss: 1.114 | Train Accuracy: 0.8126 | Val Loss: 1.199 | Val Accuracy: 0.5932\n",
      "Epoch 220 | Train Loss: 1.090 | Train Accuracy: 0.7829 | Val Loss: 1.166 | Val Accuracy: 0.7613\n",
      "Epoch 230 | Train Loss: 1.081 | Train Accuracy: 0.8019 | Val Loss: 1.168 | Val Accuracy: 0.7496\n",
      "Epoch 240 | Train Loss: 1.086 | Train Accuracy: 0.7883 | Val Loss: 1.161 | Val Accuracy: 0.7730\n",
      "Epoch 250 | Train Loss: 1.090 | Train Accuracy: 0.7673 | Val Loss: 1.161 | Val Accuracy: 0.7504\n",
      "Epoch 260 | Train Loss: 1.073 | Train Accuracy: 0.7959 | Val Loss: 1.171 | Val Accuracy: 0.7188\n",
      "Epoch 270 | Train Loss: 1.079 | Train Accuracy: 0.7859 | Val Loss: 1.171 | Val Accuracy: 0.7865\n",
      "Epoch 280 | Train Loss: 1.065 | Train Accuracy: 0.7772 | Val Loss: 1.170 | Val Accuracy: 0.7738\n",
      "Epoch 290 | Train Loss: 1.056 | Train Accuracy: 0.7922 | Val Loss: 1.162 | Val Accuracy: 0.7997\n",
      "Epoch 300 | Train Loss: 1.077 | Train Accuracy: 0.7868 | Val Loss: 1.199 | Val Accuracy: 0.6383\n",
      "Epoch 310 | Train Loss: 1.055 | Train Accuracy: 0.7932 | Val Loss: 1.163 | Val Accuracy: 0.7614\n",
      "Epoch 320 | Train Loss: 1.065 | Train Accuracy: 0.7797 | Val Loss: 1.217 | Val Accuracy: 0.6768\n",
      "Epoch 330 | Train Loss: 1.074 | Train Accuracy: 0.7965 | Val Loss: 1.191 | Val Accuracy: 0.6489\n",
      "Epoch 340 | Train Loss: 1.056 | Train Accuracy: 0.7853 | Val Loss: 1.159 | Val Accuracy: 0.7424\n",
      "Epoch 350 | Train Loss: 1.053 | Train Accuracy: 0.7925 | Val Loss: 1.169 | Val Accuracy: 0.7275\n",
      "Epoch 360 | Train Loss: 1.052 | Train Accuracy: 0.7646 | Val Loss: 1.174 | Val Accuracy: 0.7530\n",
      "Epoch 370 | Train Loss: 1.028 | Train Accuracy: 0.7926 | Val Loss: 1.178 | Val Accuracy: 0.7417\n",
      "Epoch 380 | Train Loss: 1.036 | Train Accuracy: 0.7851 | Val Loss: 1.169 | Val Accuracy: 0.7539\n",
      "Epoch 390 | Train Loss: 1.057 | Train Accuracy: 0.7767 | Val Loss: 1.174 | Val Accuracy: 0.7539\n",
      "Epoch 400 | Train Loss: 1.034 | Train Accuracy: 0.7929 | Val Loss: 1.184 | Val Accuracy: 0.7113\n",
      "Epoch 410 | Train Loss: 1.027 | Train Accuracy: 0.7995 | Val Loss: 1.199 | Val Accuracy: 0.6575\n",
      "Epoch 420 | Train Loss: 1.030 | Train Accuracy: 0.7877 | Val Loss: 1.184 | Val Accuracy: 0.7503\n",
      "Epoch 430 | Train Loss: 1.032 | Train Accuracy: 0.7907 | Val Loss: 1.173 | Val Accuracy: 0.7793\n",
      "Epoch 440 | Train Loss: 1.028 | Train Accuracy: 0.7861 | Val Loss: 1.189 | Val Accuracy: 0.7211\n",
      "Epoch 450 | Train Loss: 1.028 | Train Accuracy: 0.8137 | Val Loss: 1.210 | Val Accuracy: 0.6919\n",
      "Epoch 460 | Train Loss: 1.036 | Train Accuracy: 0.7724 | Val Loss: 1.176 | Val Accuracy: 0.7726\n",
      "Epoch 470 | Train Loss: 1.036 | Train Accuracy: 0.8114 | Val Loss: 1.217 | Val Accuracy: 0.7242\n",
      "Epoch 480 | Train Loss: 1.024 | Train Accuracy: 0.8079 | Val Loss: 1.197 | Val Accuracy: 0.7341\n",
      "Epoch 490 | Train Loss: 1.031 | Train Accuracy: 0.7909 | Val Loss: 1.202 | Val Accuracy: 0.7397\n",
      "Epoch 500 | Train Loss: 1.028 | Train Accuracy: 0.7837 | Val Loss: 1.207 | Val Accuracy: 0.7831\n",
      "Epoch 510 | Train Loss: 1.033 | Train Accuracy: 0.7662 | Val Loss: 1.206 | Val Accuracy: 0.7322\n",
      "Epoch 520 | Train Loss: 1.026 | Train Accuracy: 0.8107 | Val Loss: 1.230 | Val Accuracy: 0.6427\n",
      "Epoch 530 | Train Loss: 1.026 | Train Accuracy: 0.7981 | Val Loss: 1.263 | Val Accuracy: 0.7820\n",
      "Epoch 540 | Train Loss: 1.041 | Train Accuracy: 0.7856 | Val Loss: 1.285 | Val Accuracy: 0.6136\n",
      "Epoch 550 | Train Loss: 1.029 | Train Accuracy: 0.7658 | Val Loss: 1.246 | Val Accuracy: 0.7799\n",
      "Epoch 560 | Train Loss: 1.019 | Train Accuracy: 0.7878 | Val Loss: 1.224 | Val Accuracy: 0.7497\n",
      "Epoch 570 | Train Loss: 1.010 | Train Accuracy: 0.7900 | Val Loss: 1.251 | Val Accuracy: 0.7575\n",
      "Epoch 580 | Train Loss: 1.016 | Train Accuracy: 0.7915 | Val Loss: 1.262 | Val Accuracy: 0.7015\n",
      "Epoch 590 | Train Loss: 1.033 | Train Accuracy: 0.7874 | Val Loss: 1.269 | Val Accuracy: 0.7226\n",
      "Epoch 600 | Train Loss: 1.017 | Train Accuracy: 0.7885 | Val Loss: 1.272 | Val Accuracy: 0.7511\n",
      "Epoch 610 | Train Loss: 1.027 | Train Accuracy: 0.7844 | Val Loss: 1.262 | Val Accuracy: 0.7096\n",
      "Epoch 620 | Train Loss: 0.995 | Train Accuracy: 0.7963 | Val Loss: 1.298 | Val Accuracy: 0.7209\n",
      "Epoch 630 | Train Loss: 1.015 | Train Accuracy: 0.7624 | Val Loss: 1.310 | Val Accuracy: 0.7604\n",
      "Epoch 640 | Train Loss: 1.011 | Train Accuracy: 0.8010 | Val Loss: 1.301 | Val Accuracy: 0.6927\n",
      "Epoch 650 | Train Loss: 1.014 | Train Accuracy: 0.7997 | Val Loss: 1.324 | Val Accuracy: 0.6505\n",
      "Epoch 660 | Train Loss: 0.999 | Train Accuracy: 0.8041 | Val Loss: 1.315 | Val Accuracy: 0.7154\n",
      "Epoch 670 | Train Loss: 1.002 | Train Accuracy: 0.7715 | Val Loss: 1.321 | Val Accuracy: 0.7488\n",
      "Epoch 680 | Train Loss: 1.003 | Train Accuracy: 0.7922 | Val Loss: 1.323 | Val Accuracy: 0.7718\n",
      "Epoch 690 | Train Loss: 1.017 | Train Accuracy: 0.7872 | Val Loss: 1.336 | Val Accuracy: 0.7719\n",
      "Epoch 700 | Train Loss: 1.003 | Train Accuracy: 0.7954 | Val Loss: 1.332 | Val Accuracy: 0.7266\n",
      "Epoch 710 | Train Loss: 0.998 | Train Accuracy: 0.8044 | Val Loss: 1.377 | Val Accuracy: 0.6942\n",
      "Epoch 720 | Train Loss: 1.003 | Train Accuracy: 0.7826 | Val Loss: 1.356 | Val Accuracy: 0.7337\n",
      "Epoch 730 | Train Loss: 1.018 | Train Accuracy: 0.7883 | Val Loss: 1.369 | Val Accuracy: 0.7554\n",
      "Epoch 740 | Train Loss: 1.012 | Train Accuracy: 0.8059 | Val Loss: 1.388 | Val Accuracy: 0.6585\n",
      "Epoch 750 | Train Loss: 1.000 | Train Accuracy: 0.7711 | Val Loss: 1.400 | Val Accuracy: 0.7662\n",
      "Epoch 760 | Train Loss: 1.005 | Train Accuracy: 0.7794 | Val Loss: 1.381 | Val Accuracy: 0.7731\n",
      "Epoch 770 | Train Loss: 1.000 | Train Accuracy: 0.7791 | Val Loss: 1.380 | Val Accuracy: 0.7731\n",
      "Epoch 780 | Train Loss: 1.001 | Train Accuracy: 0.7858 | Val Loss: 1.388 | Val Accuracy: 0.7426\n",
      "Epoch 790 | Train Loss: 1.027 | Train Accuracy: 0.7821 | Val Loss: 1.407 | Val Accuracy: 0.7289\n",
      "Epoch 800 | Train Loss: 0.990 | Train Accuracy: 0.8131 | Val Loss: 1.408 | Val Accuracy: 0.7145\n",
      "Epoch 810 | Train Loss: 0.999 | Train Accuracy: 0.7948 | Val Loss: 1.399 | Val Accuracy: 0.7097\n",
      "Epoch 820 | Train Loss: 0.992 | Train Accuracy: 0.8046 | Val Loss: 1.406 | Val Accuracy: 0.6690\n",
      "Epoch 830 | Train Loss: 1.012 | Train Accuracy: 0.8082 | Val Loss: 1.433 | Val Accuracy: 0.7338\n",
      "Epoch 840 | Train Loss: 1.007 | Train Accuracy: 0.7990 | Val Loss: 1.426 | Val Accuracy: 0.7027\n",
      "Epoch 850 | Train Loss: 1.005 | Train Accuracy: 0.7836 | Val Loss: 1.437 | Val Accuracy: 0.7471\n",
      "Epoch 860 | Train Loss: 0.994 | Train Accuracy: 0.7982 | Val Loss: 1.410 | Val Accuracy: 0.7559\n",
      "Epoch 870 | Train Loss: 1.006 | Train Accuracy: 0.7823 | Val Loss: 1.453 | Val Accuracy: 0.7699\n",
      "Epoch 880 | Train Loss: 0.992 | Train Accuracy: 0.7905 | Val Loss: 1.452 | Val Accuracy: 0.7745\n",
      "Epoch 890 | Train Loss: 0.993 | Train Accuracy: 0.7799 | Val Loss: 1.431 | Val Accuracy: 0.7503\n",
      "Epoch 900 | Train Loss: 0.998 | Train Accuracy: 0.7837 | Val Loss: 1.406 | Val Accuracy: 0.7053\n",
      "Epoch 910 | Train Loss: 0.996 | Train Accuracy: 0.7960 | Val Loss: 1.446 | Val Accuracy: 0.6740\n",
      "Epoch 920 | Train Loss: 0.987 | Train Accuracy: 0.7878 | Val Loss: 1.466 | Val Accuracy: 0.7343\n",
      "Epoch 930 | Train Loss: 1.015 | Train Accuracy: 0.7963 | Val Loss: 1.487 | Val Accuracy: 0.6896\n",
      "Epoch 940 | Train Loss: 0.996 | Train Accuracy: 0.7864 | Val Loss: 1.457 | Val Accuracy: 0.7100\n",
      "Epoch 950 | Train Loss: 0.989 | Train Accuracy: 0.7720 | Val Loss: 1.485 | Val Accuracy: 0.7695\n",
      "Epoch 960 | Train Loss: 0.988 | Train Accuracy: 0.7854 | Val Loss: 1.469 | Val Accuracy: 0.7112\n",
      "Epoch 970 | Train Loss: 0.999 | Train Accuracy: 0.7919 | Val Loss: 1.507 | Val Accuracy: 0.7195\n",
      "Epoch 980 | Train Loss: 0.992 | Train Accuracy: 0.7962 | Val Loss: 1.447 | Val Accuracy: 0.7197\n",
      "Epoch 990 | Train Loss: 0.997 | Train Accuracy: 0.8075 | Val Loss: 1.533 | Val Accuracy: 0.6635\n"
     ]
    }
   ],
   "source": [
    "import os\n",
    "import torch\n",
    "import torch.nn.functional as F\n",
    "from torch.utils.data import Dataset, random_split\n",
    "from torch_geometric.loader import DataLoader\n",
    "from torch.utils.tensorboard import SummaryWriter\n",
    "from sklearn.metrics import accuracy_score, f1_score\n",
    "\n",
    "train_loader = DataLoader(train_dataset, batch_size=32, shuffle=True)\n",
    "val_loader = DataLoader(val_dataset, batch_size=32, shuffle=False)\n",
    "\n",
    "model = GCN(num_features=4, num_classes=4).to(\"cuda\")\n",
    "optimizer = torch.optim.Adam(model.parameters(), lr=0.01)\n",
    "\n",
    "writer = SummaryWriter(\"runs/c0_03__s1000\")\n",
    "best_val_accuracy = 0.0\n",
    "\n",
    "for epoch in range(1000):\n",
    "    model.train()\n",
    "    total_loss = 0.0\n",
    "    total_correct = 0\n",
    "    total_samples = 0\n",
    "\n",
    "    for batch in train_loader:\n",
    "        optimizer.zero_grad()\n",
    "        batch = batch.to(\"cuda\")\n",
    "        out = model(batch)\n",
    "\n",
    "        loss = F.nll_loss(out, batch.y.to(torch.long), weight=weights)\n",
    "        loss.backward()\n",
    "        optimizer.step()\n",
    "\n",
    "        total_loss += loss.item()\n",
    "\n",
    "        _, predicted = torch.max(out, 1)\n",
    "        total_correct += (predicted == batch.y.to(torch.long)).sum().item()\n",
    "        total_samples += batch.y.size(0)\n",
    "\n",
    "    train_accuracy = total_correct / total_samples\n",
    "\n",
    "    # Validation phase\n",
    "    model.eval()\n",
    "    val_total_correct = 0\n",
    "    val_total_samples = 0\n",
    "    val_total_loss = 0.0\n",
    "\n",
    "    with torch.no_grad():\n",
    "        for val_batch in val_loader:\n",
    "            val_batch = val_batch.to(\"cuda\")\n",
    "            val_out = model(val_batch)\n",
    "\n",
    "            val_loss = F.nll_loss(val_out, val_batch.y.to(torch.long), weight=weights)\n",
    "            val_total_loss += val_loss.item()\n",
    "\n",
    "            _, val_predicted = torch.max(val_out, 1)\n",
    "            val_total_correct += (\n",
    "                (val_predicted == val_batch.y.to(torch.long)).sum().item()\n",
    "            )\n",
    "            val_total_samples += val_batch.y.size(0)\n",
    "\n",
    "    val_accuracy = val_total_correct / val_total_samples\n",
    "\n",
    "    writer.add_scalar(\"Loss/train\", total_loss / len(train_loader), epoch)\n",
    "    writer.add_scalar(\"Accuracy/train\", train_accuracy, epoch)\n",
    "    writer.add_scalar(\"Loss/val\", val_total_loss / len(val_loader), epoch)\n",
    "    writer.add_scalar(\"Accuracy/val\", val_accuracy, epoch)\n",
    "    if val_accuracy > best_val_accuracy:\n",
    "        best_val_accuracy = val_accuracy\n",
    "        torch.save(model.state_dict(), \"best_model.pth\")\n",
    "        # print(f'Saved the best model with validation accuracy: {best_val_accuracy:.4f}')\n",
    "\n",
    "    if epoch % 10 == 0:\n",
    "        print(\n",
    "            f\"Epoch {epoch} | Train Loss: {total_loss / len(train_loader):.3f} | Train Accuracy: {train_accuracy:.4f} | Val Loss: {val_total_loss / len(val_loader):.3f} | Val Accuracy: {val_accuracy:.4f}\"\n",
    "        )\n",
    "\n",
    "writer.close()"
   ]
  },
  {
   "cell_type": "code",
   "execution_count": 64,
   "metadata": {},
   "outputs": [
    {
     "data": {
      "text/plain": [
       "DataBatch(x=[3329, 4], edge_index=[2, 66839], edge_attr=[66839, 1], y=[3329], batch=[3329], ptr=[5])"
      ]
     },
     "execution_count": 64,
     "metadata": {},
     "output_type": "execute_result"
    }
   ],
   "source": [
    "sample = next(iter(dataloader)).to(\"cuda\")\n",
    "sample"
   ]
  },
  {
   "cell_type": "code",
   "execution_count": 65,
   "metadata": {},
   "outputs": [
    {
     "data": {
      "text/plain": [
       "tensor([0, 0, 0, 0, 0, 0, 0, 0, 0, 0, 0, 0, 0, 0, 0, 0, 0, 0, 0, 0, 0, 0, 0, 0,\n",
       "        0, 0, 0, 0, 0, 0, 0, 0, 0, 0, 0, 0, 0, 0, 0, 0, 0, 0, 0, 0, 0, 0, 0, 0,\n",
       "        0, 0, 0, 0, 0, 0, 0, 0, 0, 0, 0, 0, 0, 0, 0, 0, 0, 0, 0, 0, 0, 0, 0, 0,\n",
       "        0, 0, 0, 0, 0, 0, 0, 0, 0, 0, 0, 0, 0, 0, 0, 0, 0, 0, 0, 0, 0, 0, 0, 0,\n",
       "        0, 0, 0, 0, 0, 0, 0, 0, 0, 0, 0, 0, 0, 0, 0, 0, 0, 0, 0, 0, 0, 0, 0, 0,\n",
       "        0, 0, 0, 0, 0, 0, 0, 0, 0, 0, 0, 0, 0, 0, 0, 0, 0, 0, 0, 0, 0, 0, 0, 0,\n",
       "        0, 0, 0, 0, 0, 0, 0, 0, 0, 0, 0, 0, 0, 0, 0, 0, 0, 0, 0, 0, 0, 0, 0, 0,\n",
       "        0, 0, 0, 0, 0, 0, 0, 0, 0, 0, 0, 0, 0, 0, 0, 0, 0, 0, 0, 0, 0, 0, 0, 0,\n",
       "        0, 0, 0, 0, 0, 0, 0, 0, 0, 0, 0, 0, 0, 0, 0, 0, 0, 0, 0, 0, 0, 0, 0, 0,\n",
       "        0, 0, 0, 0, 0, 0, 0, 0, 0, 0, 0, 0, 0, 0, 0, 0, 0, 0, 0, 0, 0, 0, 0, 0,\n",
       "        0, 0, 0, 0, 0, 0, 0, 0, 0, 0, 0, 0, 0, 0, 0, 0, 0, 0, 0, 0, 0, 0, 0, 0,\n",
       "        0, 0, 0, 0, 0, 0, 0, 0, 0, 0, 0, 0, 0, 0, 0, 0, 0, 0, 0, 0, 0, 0, 0, 0,\n",
       "        0, 0, 0, 0, 0, 0, 0, 0, 0, 0, 0, 0, 0, 0, 0, 0, 0, 0, 0, 0, 0, 0, 0, 0,\n",
       "        0, 0, 0, 0, 0, 0, 0, 0, 0, 0, 0, 0, 0, 0, 0, 0, 0, 0, 0, 0, 0, 0, 0, 0,\n",
       "        0, 0, 0, 0, 0, 0, 0, 0, 0, 0, 0, 0, 0, 0, 0, 0, 0, 0, 0, 0, 0, 0, 0, 0,\n",
       "        0, 0, 0, 0, 0, 0, 0, 0, 0, 0, 0, 0, 0, 0, 0, 0, 0, 0, 0, 0, 0, 0, 0, 0,\n",
       "        0, 0, 0, 0, 0, 0, 0, 0, 0, 0, 0, 0, 0, 0, 0, 0, 0, 0, 0, 0, 0, 0, 0, 0,\n",
       "        0, 0, 0, 0, 0, 0, 0, 0, 0, 0, 0, 0, 0, 0, 0, 0, 0, 0, 0, 0, 0, 0, 0, 0,\n",
       "        0, 0, 0, 0, 0, 0, 0, 0, 0, 0, 0, 0, 0, 0, 0, 0, 0, 0, 0, 0, 0, 0, 0, 0,\n",
       "        0, 0, 0, 0, 0, 0, 0, 0, 0, 0, 0, 0, 0, 0, 0, 0, 0, 0, 0, 0, 0, 0, 0, 0,\n",
       "        0, 0, 0, 0, 0, 0, 0, 0, 0, 0, 0, 0, 0, 0, 0, 0, 0, 0, 0, 0, 0, 0, 0, 0,\n",
       "        0, 0, 0, 0, 0, 0, 0, 0, 0, 0, 0, 0, 0, 0, 0, 0, 0, 0, 0, 0, 0, 0, 0, 0,\n",
       "        0, 0, 0, 0, 0, 0, 0, 0, 0, 0, 3, 0, 0, 0, 0, 0, 0, 0, 0, 0, 0, 0, 0, 0,\n",
       "        3, 3, 0, 0, 0, 0, 0, 0, 0, 0, 0, 0, 0, 0, 0, 0, 0, 0, 0, 0, 0, 0, 0, 0,\n",
       "        2, 0, 0, 0, 0, 0, 0, 0, 3, 0, 0, 0, 0, 0, 0, 0, 0, 0, 0, 0, 0, 0, 0, 0,\n",
       "        0, 0, 0, 0, 0, 0, 3, 3, 0, 0, 3, 0, 0, 0, 3, 0, 3, 0, 0, 0, 0, 0, 0, 0,\n",
       "        3, 0, 0, 0, 0, 0, 0, 0, 3, 0, 3, 0, 0, 0, 0, 0, 3, 1, 0, 0, 0, 0, 0, 0,\n",
       "        3, 0, 1, 0, 0, 0, 1, 0, 0, 0, 0, 0, 0, 0, 0, 3, 0, 0, 0, 0, 0, 3, 0, 0,\n",
       "        0, 0, 0, 0, 0, 0, 0, 0, 3, 1, 0, 1, 0, 0, 0, 3, 3, 0, 0, 0, 0, 0, 3, 3,\n",
       "        0, 0, 1, 0, 0, 0, 0, 0, 0, 0, 1, 0, 0, 0, 0, 0, 0, 0, 0, 2, 0, 0, 0, 0,\n",
       "        0, 0, 0, 3, 0, 0, 0, 0, 0, 1, 0, 0, 0, 1, 0, 0, 0, 0, 0, 0, 3, 1, 0, 0,\n",
       "        0, 1, 2, 0, 3, 0, 0, 0, 0, 0, 0, 0, 0, 1, 1, 0, 3, 0, 0, 0, 0, 0, 0, 0,\n",
       "        1, 0, 0, 0, 0, 0, 0, 0, 0, 0, 0, 3, 0, 3, 1, 0, 1, 1, 0, 1, 0, 0, 0, 0,\n",
       "        0, 0, 0, 0, 0, 0, 0, 0])"
      ]
     },
     "execution_count": 65,
     "metadata": {},
     "output_type": "execute_result"
    }
   ],
   "source": [
    "model_test(sample).argmax(dim=1).detach().to(\"cpu\")[0:800]"
   ]
  },
  {
   "cell_type": "code",
   "execution_count": 66,
   "metadata": {},
   "outputs": [
    {
     "data": {
      "text/plain": [
       "tensor([0., 0., 0., 0., 0., 0., 0., 0., 0., 0., 0., 0., 0., 0., 0., 0., 0., 0.,\n",
       "        0., 0., 0., 0., 0., 0., 0., 0., 0., 0., 0., 0., 0., 0., 0., 0., 0., 0.,\n",
       "        0., 0., 0., 0., 0., 0., 0., 0., 0., 0., 0., 0., 0., 0., 0., 0., 0., 0.,\n",
       "        0., 0., 0., 0., 0., 0., 0., 0., 0., 0., 0., 0., 0., 0., 0., 0., 0., 0.,\n",
       "        0., 0., 0., 0., 0., 0., 0., 0., 0., 0., 0., 0., 0., 0., 0., 0., 0., 0.,\n",
       "        0., 0., 0., 0., 0., 0., 0., 0., 0., 0., 0., 0., 0., 0., 0., 0., 0., 0.,\n",
       "        0., 0., 0., 0., 0., 0., 0., 0., 0., 0., 0., 0., 0., 0., 0., 0., 0., 0.,\n",
       "        0., 0., 0., 0., 0., 0., 0., 0., 0., 0., 0., 0., 0., 0., 0., 0., 0., 0.,\n",
       "        0., 0., 0., 0., 0., 0., 0., 0., 0., 0., 0., 0., 0., 0., 0., 0., 0., 0.,\n",
       "        0., 0., 0., 0., 0., 0., 0., 0., 0., 0., 0., 0., 0., 0., 0., 0., 0., 0.,\n",
       "        0., 0., 0., 0., 0., 0., 0., 0., 0., 0., 0., 0., 0., 0., 0., 0., 0., 0.,\n",
       "        0., 0., 0., 0., 0., 0., 0., 0., 0., 0., 0., 0., 0., 0., 0., 0., 0., 0.,\n",
       "        0., 0., 0., 0., 0., 0., 0., 0., 0., 0., 0., 0., 0., 0., 0., 0., 0., 0.,\n",
       "        0., 0., 0., 0., 0., 0., 0., 0., 0., 0., 0., 0., 0., 0., 0., 0., 0., 0.,\n",
       "        0., 0., 0., 0., 0., 0., 0., 0., 0., 0., 0., 0., 0., 0., 0., 0., 0., 0.,\n",
       "        0., 0., 0., 0., 0., 0., 0., 0., 0., 0., 0., 0., 0., 0., 0., 0., 0., 0.,\n",
       "        0., 0., 0., 0., 0., 0., 0., 0., 0., 0., 0., 0., 0., 0., 0., 0., 0., 0.,\n",
       "        0., 0., 0., 0., 0., 0., 0., 0., 0., 0., 0., 0., 0., 0., 0., 0., 0., 0.,\n",
       "        0., 0., 0., 0., 0., 0., 0., 0., 0., 0., 0., 0., 0., 0., 0., 0., 0., 0.,\n",
       "        0., 0., 0., 0., 0., 0., 0., 0., 0., 0., 0., 0., 0., 0., 0., 0., 0., 0.,\n",
       "        0., 0., 0., 0., 0., 0., 0., 0., 0., 0., 0., 0., 0., 0., 0., 0., 0., 0.,\n",
       "        0., 0., 0., 0., 0., 0., 0., 0., 0., 0., 0., 0., 0., 0., 0., 0., 0., 0.,\n",
       "        0., 0., 0., 0., 0., 0., 0., 0., 0., 0., 0., 0., 0., 0., 0., 0., 0., 0.,\n",
       "        0., 0., 0., 0., 0., 0., 0., 0., 0., 0., 0., 0., 0., 0., 0., 0., 0., 0.,\n",
       "        0., 0., 0., 0., 0., 0., 0., 0., 0., 0., 0., 0., 0., 0., 0., 0., 0., 0.,\n",
       "        0., 0., 0., 0., 0., 0., 0., 0., 0., 0., 0., 0., 0., 0., 0., 0., 0., 0.,\n",
       "        0., 0., 0., 0., 0., 0., 0., 0., 0., 0., 0., 0., 0., 0., 0., 0., 0., 0.,\n",
       "        0., 0., 0., 0., 0., 0., 0., 0., 0., 0., 0., 0., 0., 0., 0., 0., 0., 0.,\n",
       "        0., 0., 0., 0., 0., 0., 0., 0., 0., 0., 0., 0., 0., 0., 0., 0., 0., 0.,\n",
       "        0., 0., 0., 0., 0., 0., 0., 0., 0., 0., 0., 0., 0., 0., 0., 0., 0., 0.,\n",
       "        0., 0., 0., 0., 0., 0., 0., 0., 0., 0., 0., 0., 0., 0., 0., 0., 0., 0.,\n",
       "        0., 0., 0., 0., 0., 0., 0., 0., 0., 0., 0., 0., 0., 0., 0., 0., 0., 0.,\n",
       "        0., 0., 0., 0., 0., 0., 0., 0., 0., 0., 0., 0., 0., 0., 0., 0., 0., 0.,\n",
       "        0., 0., 0., 0., 0., 0., 0., 0., 0., 0., 0., 0., 0., 0., 0., 0., 0., 0.,\n",
       "        0., 0., 0., 0., 3., 0., 0., 0., 0., 0., 0., 0., 3., 0., 0., 0., 0., 0.,\n",
       "        0., 0., 0., 0., 0., 0., 0., 0., 0., 0., 0., 0., 0., 0., 0., 0., 0., 0.,\n",
       "        0., 0., 3., 0., 0., 0., 0., 0., 0., 0., 0., 0., 0., 0., 0., 3., 0., 0.,\n",
       "        0., 0., 0., 0., 0., 0., 0., 0., 0., 0., 0., 0., 0., 0., 3., 1., 0., 0.,\n",
       "        0., 0., 0., 0., 2., 0., 0., 0., 0., 0., 0., 0., 0., 0., 0., 0., 0., 0.,\n",
       "        0., 0., 0., 0., 1., 0., 0., 0., 0., 0., 0., 0., 0., 0., 0., 0., 0., 0.,\n",
       "        0., 0., 0., 3., 0., 0., 0., 0., 0., 0., 0., 0., 0., 0., 0., 0., 0., 0.,\n",
       "        0., 0., 0., 0., 0., 0., 0., 3., 0., 0., 0., 0., 0., 0., 0., 0., 0., 0.,\n",
       "        0., 0., 0., 0., 0., 0., 0., 0., 0., 0., 0., 0., 0., 0., 0., 0., 0., 0.,\n",
       "        0., 0., 0., 0., 0., 0., 0., 0., 0., 0., 0., 0., 0., 0., 0., 0., 0., 0.,\n",
       "        0., 0., 0., 0., 0., 0., 0., 0.], device='cuda:0')"
      ]
     },
     "execution_count": 66,
     "metadata": {},
     "output_type": "execute_result"
    }
   ],
   "source": [
    "sample.y[0: 800]"
   ]
  },
  {
   "cell_type": "code",
   "execution_count": 78,
   "metadata": {},
   "outputs": [],
   "source": [
    "import torch\n",
    "\n",
    "def get_classwise_acc(true_labels, predicted_labels):\n",
    "    # true_labels, predicted_labels = sample.y.detach().to(\"cpu\"), model_test(sample).argmax(dim=1).detach().to(\"cpu\")\n",
    "\n",
    "    true_positives = {}\n",
    "    total_samples = {}\n",
    "\n",
    "    for true, pred in zip(true_labels, predicted_labels):\n",
    "        if true.item() in total_samples:\n",
    "            total_samples[true.item()] += 1\n",
    "        else:\n",
    "            total_samples[true.item()] = 1\n",
    "\n",
    "        if true == pred:\n",
    "            if true.item() in true_positives:\n",
    "                true_positives[true.item()] += 1\n",
    "            else:\n",
    "                true_positives[true.item()] = 1\n",
    "\n",
    "    # Calculate class-wise accuracy\n",
    "    class_wise_accuracy = {}\n",
    "    for cls in total_samples:\n",
    "        if cls in true_positives:\n",
    "            class_wise_accuracy[cls] = true_positives[cls] / total_samples[cls]\n",
    "        else:\n",
    "            class_wise_accuracy[cls] = 0.0  # No true positives for this class\n",
    "\n",
    "    print(\"Class-wise Accuracy:\", class_wise_accuracy)\n"
   ]
  },
  {
   "cell_type": "code",
   "execution_count": 75,
   "metadata": {},
   "outputs": [],
   "source": [
    "validation_sample = torch.load(\"../../data/processed/validation/008.pt\").to(\"cuda\")"
   ]
  },
  {
   "cell_type": "code",
   "execution_count": 77,
   "metadata": {},
   "outputs": [
    {
     "data": {
      "text/plain": [
       "tensor([0, 0, 0, 2, 1, 0, 0, 1, 0, 0, 0, 2, 0, 2, 0, 0, 0, 2, 2, 0, 0, 0, 0, 0,\n",
       "        2, 0, 2, 0, 0, 0, 0, 0, 2, 0, 0, 2, 0, 0, 0, 0, 0, 0, 0, 0, 2, 2, 2, 2,\n",
       "        2, 0, 0, 0, 2, 1, 0, 0, 2, 2, 1, 0, 2, 0, 2, 2, 0, 0, 0, 0, 0, 0, 2, 2,\n",
       "        2, 1, 1, 1, 0, 2, 0, 2, 0, 0, 2, 2, 2, 0, 0, 0, 2, 1, 0, 0, 1, 0, 0, 2,\n",
       "        2, 0, 0, 0, 0, 0, 0, 2, 1, 2, 0, 2, 2, 2, 2, 2, 0, 2, 3, 2, 2, 0, 0, 0,\n",
       "        2, 0, 0, 0, 0, 0, 2, 0, 1, 0, 1, 0, 0, 0, 2, 2, 1, 2, 2, 0, 0, 0, 3, 0,\n",
       "        2, 0, 0, 0, 0, 0, 1, 0, 0, 0, 0, 1, 2, 0, 0, 0, 0, 0, 0, 0, 0, 0, 0, 2,\n",
       "        0, 1, 1, 2, 0, 0, 0, 0, 2, 0, 2, 1, 1, 0, 2, 0, 0, 1, 0, 0, 0, 1, 2, 0,\n",
       "        0, 2, 2, 2, 2, 1, 1, 2, 0, 1, 0, 2, 2, 2, 0, 1, 0, 0, 0, 0, 0, 0, 0, 0,\n",
       "        0, 3, 0, 0, 2, 0, 0, 0, 1, 2, 0, 2, 2, 0, 0, 0, 0, 0, 0, 2, 0, 1, 0, 0,\n",
       "        0, 0, 3, 0, 0, 0, 2, 0, 2, 2, 2, 0, 0, 2, 0, 0, 1, 0, 0, 0, 0, 0, 0, 2,\n",
       "        0, 0, 2, 2, 3, 0, 0, 0, 1, 2, 0, 0, 0, 0, 2, 0, 0, 2, 2, 1, 0, 2, 1, 3,\n",
       "        0, 0, 0, 0, 0, 2, 0, 0, 1, 0, 2, 0, 0, 0, 2, 1, 2, 0, 2, 0, 0, 0, 0, 0,\n",
       "        0, 0, 0, 2, 1, 0, 2, 2, 0, 2, 2, 0, 0, 0, 3, 0, 3, 2, 2, 0, 0, 0, 0, 0,\n",
       "        0, 0, 2, 0, 0, 2, 2, 2, 0, 0, 0, 0, 0, 0, 0, 2, 0, 2, 0, 0, 2, 1, 0, 0,\n",
       "        0, 0, 2, 0, 0, 0, 0, 0, 0, 2, 0, 2, 2, 0, 0, 0, 0, 0, 0, 3, 1, 0, 0, 2,\n",
       "        0, 2, 0, 2, 0, 2, 0, 0, 1, 0, 0, 0, 2, 2, 0, 0, 0, 1, 0, 2, 0, 0, 0, 0,\n",
       "        2, 3, 0, 0, 0, 0, 0, 0, 2, 2, 2, 2, 2, 0, 0, 0, 0, 1, 0, 1, 0, 0, 1, 2,\n",
       "        2, 0, 0, 0, 0, 0, 0, 0, 0, 0, 0, 2, 0, 1, 0, 0, 0, 1, 0, 0, 1, 0, 0, 0,\n",
       "        0, 0, 1, 0, 2, 0, 0, 0, 1, 2, 0, 0, 0, 2, 0, 2, 2, 2, 0, 1, 0, 0, 0, 0,\n",
       "        2, 2, 0, 0, 0, 2, 0, 0, 0, 0, 0, 0, 3, 3, 0, 2, 0, 2, 0, 0, 0, 0, 0, 0,\n",
       "        0, 0, 0, 0, 2, 0, 2, 0, 0, 2, 2, 2, 0, 0, 0, 0, 0, 1, 0, 1, 0, 2, 2, 0,\n",
       "        2, 0, 0, 0, 0, 0, 2, 0, 0, 2, 0, 0, 0, 0, 0, 1, 0, 2, 0, 0, 0, 0, 0, 0,\n",
       "        0, 1, 2, 0, 0, 0, 0, 0, 0, 2, 0, 0, 0, 0, 0, 0, 0, 0, 0, 0, 2, 0, 0, 0,\n",
       "        0, 0, 0, 0, 3, 0, 2, 2, 2, 0, 0, 0, 1, 2, 0, 2, 0, 0, 0, 0, 2, 1, 0, 0,\n",
       "        1, 2, 0, 0, 0, 0, 0, 0, 1, 2, 0, 1, 0, 2, 0, 0, 2, 0, 2, 0, 2, 2, 0, 0,\n",
       "        0, 2, 0, 0, 0, 0, 1, 0, 2, 0, 2, 0, 0, 1, 0, 0, 0, 0, 0, 0, 0, 0, 2, 0,\n",
       "        0, 0, 0, 2, 0, 0, 2, 0, 0, 0, 2, 2, 0, 0, 0, 0, 0, 2, 0, 0, 2, 0, 0, 0,\n",
       "        1, 3, 2, 2, 2, 0, 0, 0, 0, 0, 0, 0, 2, 0, 2, 0, 2, 0, 0, 2, 0, 0, 0, 2,\n",
       "        0, 0, 1, 0, 0, 0, 0, 0, 2, 2, 0, 2, 0, 0, 0, 0, 0, 2, 0, 0, 0, 0, 0, 2,\n",
       "        0, 0, 0, 2, 0, 0, 0, 0, 0, 0, 0, 0, 0, 0, 0, 0, 2, 2, 0, 0, 0, 0, 0, 2,\n",
       "        0, 0, 0, 0, 0, 2, 2, 0, 0, 0, 2, 0, 0, 0, 0, 0, 0, 0, 0, 0, 0, 0, 0, 0,\n",
       "        0, 0, 1, 2, 0, 0, 2, 0, 0, 0, 2, 0, 0, 2, 0, 0, 0, 0, 0, 0, 0, 0, 0, 0,\n",
       "        0, 0, 2, 0, 0, 0, 0, 2, 0, 0, 0, 0, 0, 0, 3, 0, 0, 0, 0, 0, 0, 0, 0, 0,\n",
       "        0, 0, 0])"
      ]
     },
     "execution_count": 77,
     "metadata": {},
     "output_type": "execute_result"
    }
   ],
   "source": [
    "model_test(validation_sample).detach().cpu().argmax(dim=1)"
   ]
  },
  {
   "cell_type": "code",
   "execution_count": 14,
   "metadata": {},
   "outputs": [
    {
     "data": {
      "text/plain": [
       "280.0"
      ]
     },
     "execution_count": 14,
     "metadata": {},
     "output_type": "execute_result"
    }
   ],
   "source": [
    "350*0.8"
   ]
  },
  {
   "cell_type": "code",
   "execution_count": 32,
   "metadata": {},
   "outputs": [
    {
     "data": {
      "text/plain": [
       "Data(x=[819, 4], edge_index=[2, 16479], edge_attr=[16479, 1], y=[819])"
      ]
     },
     "execution_count": 32,
     "metadata": {},
     "output_type": "execute_result"
    }
   ],
   "source": [
    "# validation = torch.load(\"../../data/processed/008.pt\")\n",
    "# validation"
   ]
  },
  {
   "cell_type": "code",
   "execution_count": 79,
   "metadata": {},
   "outputs": [
    {
     "name": "stdout",
     "output_type": "stream",
     "text": [
      "Class-wise Accuracy: {0.0: 0.6824408468244084, 2.0: 0.6666666666666666, 3.0: 0.0}\n"
     ]
    }
   ],
   "source": [
    "get_classwise_acc(validation.y, model_test(validation.to(\"cuda\")).argmax(dim=1))\n",
    "\n",
    "# reminder {1:necrotic, 2: edema, 3:enhancing}"
   ]
  },
  {
   "cell_type": "code",
   "execution_count": 26,
   "metadata": {},
   "outputs": [
    {
     "data": {
      "text/plain": [
       "tensor([0., 0., 0., 0., 0., 0., 0., 0., 0., 0., 0., 0., 0., 0., 0., 0., 0., 0.,\n",
       "        0., 0., 0., 0., 0., 0., 0., 0., 0., 0., 0., 0., 0., 0., 0., 0., 0., 0.,\n",
       "        0., 0., 0., 0., 0., 0., 0., 0., 0., 0., 0., 0., 0., 0., 0., 0., 0., 0.,\n",
       "        0., 0., 0., 0., 0., 0., 0., 0., 0., 0., 0., 0., 0., 0., 0., 0., 0., 0.,\n",
       "        0., 0., 0., 0., 0., 0., 0., 0., 0., 0., 0., 0., 0., 0., 0., 0., 0., 0.,\n",
       "        0., 0., 0., 0., 0., 0., 0., 0., 0., 0., 0., 0., 0., 0., 0., 0., 0., 0.,\n",
       "        0., 0., 0., 0., 0., 0., 0., 0., 0., 0., 0., 0., 0., 0., 0., 0., 0., 0.,\n",
       "        0., 0., 0., 0., 0., 0., 0., 0., 0., 0., 0., 0., 0., 0., 0., 0., 0., 0.,\n",
       "        0., 0., 0., 0., 0., 0., 0., 0., 0., 0., 0., 0., 0., 0., 0., 0., 0., 0.,\n",
       "        0., 0., 0., 0., 0., 0., 0., 0., 0., 0., 0., 0., 0., 0., 0., 0., 0., 0.,\n",
       "        0., 0., 0., 0., 0., 0., 0., 0., 0., 0., 0., 0., 0., 0., 0., 0., 0., 0.,\n",
       "        0., 0., 0., 0., 0., 0., 0., 0., 0., 0., 0., 0., 0., 0., 0., 0., 0., 0.,\n",
       "        0., 0., 0., 0., 0., 0., 0., 0., 0., 0., 0., 0., 0., 0., 0., 0., 0., 0.,\n",
       "        0., 0., 0., 0., 0., 0., 0., 0., 0., 0., 0., 0., 0., 0., 0., 0., 0., 0.,\n",
       "        0., 0., 0., 0., 0., 0., 0., 0., 0., 0., 0., 0., 0., 0., 0., 0., 0., 0.,\n",
       "        0., 0., 0., 0., 0., 0., 0., 0., 0., 0., 0., 0., 0., 0., 0., 0., 0., 0.,\n",
       "        0., 0., 0., 0., 0., 0., 0., 0., 0., 0., 0., 0., 0., 0., 0., 0., 0., 0.,\n",
       "        0., 0., 0., 0., 0., 0., 0., 0., 0., 0., 0., 0., 0., 0., 0., 0., 0., 0.,\n",
       "        0., 0., 0., 0., 0., 0., 0., 0., 0., 0., 0., 0., 0., 0., 0., 0., 0., 0.,\n",
       "        0., 0., 0., 0., 0., 0., 0., 0., 0., 0., 0., 0., 0., 0., 0., 0., 0., 0.,\n",
       "        0., 0., 0., 0., 0., 0., 0., 0., 0., 0., 0., 0., 0., 0., 0., 0., 0., 0.,\n",
       "        0., 0., 0., 0., 0., 0., 0., 0., 0., 0., 0., 0., 0., 0., 0., 0., 0., 0.,\n",
       "        0., 0., 0., 0., 0., 0., 0., 0., 0., 0., 0., 0., 0., 0., 0., 0., 0., 0.,\n",
       "        0., 0., 0., 0., 0., 0., 0., 0., 0., 0., 0., 0., 0., 0., 0., 0., 0., 0.,\n",
       "        0., 0., 0., 0., 0., 0., 0., 0., 0., 0., 0., 0., 0., 0., 0., 0., 0., 0.,\n",
       "        0., 0., 0., 0., 0., 0., 0., 0., 0., 0., 0., 0., 0., 0., 0., 0., 0., 0.,\n",
       "        0., 0., 0., 0., 0., 0., 0., 0., 0., 0., 0., 0., 0., 0., 0., 0., 0., 0.,\n",
       "        0., 0., 0., 0., 0., 0., 0., 0., 0., 0., 0., 0., 0., 0., 0., 0., 0., 0.,\n",
       "        0., 0., 0., 0., 0., 0., 0., 0., 0., 0., 0., 0., 0., 0., 0., 0., 0., 0.,\n",
       "        0., 0., 0., 0., 0., 0., 0., 0., 0., 0., 0., 0., 0., 0., 0., 0., 0., 0.,\n",
       "        0., 0., 0., 0., 0., 0., 0., 0., 0., 0., 0., 0., 0., 0., 0., 0., 0., 0.,\n",
       "        0., 0., 0., 0., 0., 0., 0., 0., 0., 0., 0., 0., 0., 0., 0., 0., 0., 0.,\n",
       "        0., 0., 0., 0., 0., 0., 0., 0., 0., 0., 0., 0., 0., 0., 0., 0., 0., 0.,\n",
       "        0., 0., 0., 0., 0., 0., 0., 0., 0., 0., 0., 0., 0., 0., 0., 0., 0., 0.,\n",
       "        0., 0., 0., 0., 0., 0., 0., 0., 0., 0., 0., 0., 0., 0., 0., 0., 0., 0.,\n",
       "        0., 0., 0., 0., 0., 0., 0., 0., 0., 0., 0., 0., 0., 0., 0., 0., 0., 0.,\n",
       "        0., 0., 0., 0., 0., 2., 0., 0., 0., 0., 0., 0., 0., 2., 2., 2., 0., 3.,\n",
       "        0., 0., 0., 2., 0., 0., 0., 0., 0., 0., 0., 2., 0., 0., 0., 0., 0., 0.,\n",
       "        0., 0., 0., 0., 0., 0., 0., 0., 0., 0., 0., 3., 0., 0., 0., 0., 0., 0.,\n",
       "        2., 1., 0., 0., 0., 0., 0., 0., 0., 0., 0., 0., 0., 0., 0., 0., 0., 0.,\n",
       "        0., 2., 0., 3., 2., 0., 0., 0., 0., 0., 2., 0., 0., 0., 0., 2., 2., 0.,\n",
       "        0., 1., 0., 0., 0., 0., 0., 0., 0., 0., 0., 0., 0., 0., 0., 0., 0., 0.,\n",
       "        2., 0., 0., 0., 0., 0., 0., 0., 0., 2., 2., 3., 0., 2., 0., 2., 0., 0.,\n",
       "        0., 0., 0., 0., 0., 0., 0., 2., 0., 0., 0., 0., 0., 2., 0., 0., 0., 0.,\n",
       "        0., 0., 0., 0., 0., 2., 0., 0., 0., 0., 0., 0., 0., 0., 0., 0., 0., 0.,\n",
       "        2., 0., 0., 0., 0., 0., 0.], device='cuda:0')"
      ]
     },
     "execution_count": 26,
     "metadata": {},
     "output_type": "execute_result"
    }
   ],
   "source": [
    "t = torch.load(\"../../data/processed/0_05__1000/007.pt\").to(\"cuda\")\n",
    "t.y"
   ]
  },
  {
   "cell_type": "code",
   "execution_count": null,
   "metadata": {},
   "outputs": [],
   "source": []
  },
  {
   "cell_type": "code",
   "execution_count": 83,
   "metadata": {},
   "outputs": [
    {
     "data": {
      "image/png": "[encoded data removed]",
      "text/plain": [
       "<Figure size 640x480 with 2 Axes>"
      ]
     },
     "metadata": {},
     "output_type": "display_data"
    },
    {
     "name": "stdout",
     "output_type": "stream",
     "text": [
      "Class-wise Accuracy: [0.6886675       nan 0.2       0.       ]\n"
     ]
    },
    {
     "name": "stderr",
     "output_type": "stream",
     "text": [
      "/tmp/ipykernel_66121/2201379399.py:13: RuntimeWarning: invalid value encountered in divide\n",
      "  class_wise_accuracy = cm.diagonal() / cm.sum(axis=1)\n"
     ]
    }
   ],
   "source": [
    "import numpy as np\n",
    "from sklearn.metrics import confusion_matrix, ConfusionMatrixDisplay\n",
    "import matplotlib.pyplot as plt\n",
    "\n",
    "true_labels, predicted_labels = validation.y.detach().cpu(), model_test(validation.to(\"cuda\")).argmax(dim=1).detach().cpu()\n",
    "\n",
    "cm = confusion_matrix(true_labels, predicted_labels)\n",
    "\n",
    "disp = ConfusionMatrixDisplay(confusion_matrix=cm)\n",
    "disp.plot(cmap=plt.cm.Blues)\n",
    "plt.show()\n",
    "\n",
    "class_wise_accuracy = cm.diagonal() / cm.sum(axis=1)\n",
    "print(\"Class-wise Accuracy:\", class_wise_accuracy)\n"
   ]
  },
  {
   "cell_type": "code",
   "execution_count": 11,
   "metadata": {},
   "outputs": [
    {
     "data": {
      "text/plain": [
       "Data(x=[855, 4], edge_index=[2, 16073], edge_attr=[16073, 1], y=[855])"
      ]
     },
     "execution_count": 11,
     "metadata": {},
     "output_type": "execute_result"
    }
   ],
   "source": [
    "torch.load(\"../../data/processed/0_05__1000/003.pt\")"
   ]
  },
  {
   "cell_type": "code",
   "execution_count": 27,
   "metadata": {},
   "outputs": [],
   "source": [
    "import graph_generation as g"
   ]
  },
  {
   "cell_type": "code",
   "execution_count": 28,
   "metadata": {},
   "outputs": [
    {
     "ename": "FileNotFoundError",
     "evalue": "No such file or no access: 'data/raw/MICCAI_BraTS2020_TrainingData/BraTS20_Training_001/BraTS20_Training_001_t1.nii'",
     "output_type": "error",
     "traceback": [
      "\u001b[0;31m---------------------------------------------------------------------------\u001b[0m",
      "\u001b[0;31mFileNotFoundError\u001b[0m                         Traceback (most recent call last)",
      "File \u001b[0;32m~/projects/thesis/venv/lib/python3.10/site-packages/nibabel/loadsave.py:100\u001b[0m, in \u001b[0;36mload\u001b[0;34m(filename, **kwargs)\u001b[0m\n\u001b[1;32m     99\u001b[0m \u001b[38;5;28;01mtry\u001b[39;00m:\n\u001b[0;32m--> 100\u001b[0m     stat_result \u001b[38;5;241m=\u001b[39m \u001b[43mos\u001b[49m\u001b[38;5;241;43m.\u001b[39;49m\u001b[43mstat\u001b[49m\u001b[43m(\u001b[49m\u001b[43mfilename\u001b[49m\u001b[43m)\u001b[49m\n\u001b[1;32m    101\u001b[0m \u001b[38;5;28;01mexcept\u001b[39;00m \u001b[38;5;167;01mOSError\u001b[39;00m:\n",
      "\u001b[0;31mFileNotFoundError\u001b[0m: [Errno 2] No such file or directory: 'data/raw/MICCAI_BraTS2020_TrainingData/BraTS20_Training_001/BraTS20_Training_001_t1.nii'",
      "\nDuring handling of the above exception, another exception occurred:\n",
      "\u001b[0;31mFileNotFoundError\u001b[0m                         Traceback (most recent call last)",
      "Cell \u001b[0;32mIn[28], line 1\u001b[0m\n\u001b[0;32m----> 1\u001b[0m nii_loader \u001b[38;5;241m=\u001b[39m \u001b[43mg\u001b[49m\u001b[38;5;241;43m.\u001b[39;49m\u001b[43mNii_loader\u001b[49m\u001b[43m(\u001b[49m\u001b[43m)\u001b[49m\n",
      "File \u001b[0;32m~/projects/thesis/src/main/graph_generation.py:59\u001b[0m, in \u001b[0;36mNii_loader.__init__\u001b[0;34m(self, file_id, root_dir)\u001b[0m\n\u001b[1;32m     50\u001b[0m \u001b[38;5;28mself\u001b[39m\u001b[38;5;241m.\u001b[39mpaths_dict \u001b[38;5;241m=\u001b[39m {\n\u001b[1;32m     51\u001b[0m     \u001b[38;5;124m\"\u001b[39m\u001b[38;5;124mt1\u001b[39m\u001b[38;5;124m\"\u001b[39m: t1_path,\n\u001b[1;32m     52\u001b[0m     \u001b[38;5;124m\"\u001b[39m\u001b[38;5;124mt1ce\u001b[39m\u001b[38;5;124m\"\u001b[39m: t1ce_path,\n\u001b[0;32m   (...)\u001b[0m\n\u001b[1;32m     55\u001b[0m     \u001b[38;5;124m\"\u001b[39m\u001b[38;5;124mmask\u001b[39m\u001b[38;5;124m\"\u001b[39m: mask_path,\n\u001b[1;32m     56\u001b[0m }\n\u001b[1;32m     58\u001b[0m \u001b[38;5;28;01mfor\u001b[39;00m key, value \u001b[38;5;129;01min\u001b[39;00m \u001b[38;5;28mself\u001b[39m\u001b[38;5;241m.\u001b[39mpaths_dict\u001b[38;5;241m.\u001b[39mitems():\n\u001b[0;32m---> 59\u001b[0m     \u001b[38;5;28msetattr\u001b[39m(\u001b[38;5;28mself\u001b[39m, key, \u001b[43mnib\u001b[49m\u001b[38;5;241;43m.\u001b[39;49m\u001b[43mload\u001b[49m\u001b[43m(\u001b[49m\u001b[43mvalue\u001b[49m\u001b[43m)\u001b[49m\u001b[38;5;241m.\u001b[39mget_fdata())\n\u001b[1;32m     60\u001b[0m \u001b[38;5;66;03m# self.t1 = [x for x in nib.load(list(self.paths_dict.values())).get_fdata()]\u001b[39;00m\n\u001b[1;32m     61\u001b[0m \u001b[38;5;28mself\u001b[39m\u001b[38;5;241m.\u001b[39mmask[\u001b[38;5;28mself\u001b[39m\u001b[38;5;241m.\u001b[39mmask \u001b[38;5;241m==\u001b[39m \u001b[38;5;241m4\u001b[39m] \u001b[38;5;241m=\u001b[39m \u001b[38;5;241m3\u001b[39m\n",
      "File \u001b[0;32m~/projects/thesis/venv/lib/python3.10/site-packages/nibabel/loadsave.py:102\u001b[0m, in \u001b[0;36mload\u001b[0;34m(filename, **kwargs)\u001b[0m\n\u001b[1;32m    100\u001b[0m     stat_result \u001b[38;5;241m=\u001b[39m os\u001b[38;5;241m.\u001b[39mstat(filename)\n\u001b[1;32m    101\u001b[0m \u001b[38;5;28;01mexcept\u001b[39;00m \u001b[38;5;167;01mOSError\u001b[39;00m:\n\u001b[0;32m--> 102\u001b[0m     \u001b[38;5;28;01mraise\u001b[39;00m \u001b[38;5;167;01mFileNotFoundError\u001b[39;00m(\u001b[38;5;124mf\u001b[39m\u001b[38;5;124m\"\u001b[39m\u001b[38;5;124mNo such file or no access: \u001b[39m\u001b[38;5;124m'\u001b[39m\u001b[38;5;132;01m{\u001b[39;00mfilename\u001b[38;5;132;01m}\u001b[39;00m\u001b[38;5;124m'\u001b[39m\u001b[38;5;124m\"\u001b[39m)\n\u001b[1;32m    103\u001b[0m \u001b[38;5;28;01mif\u001b[39;00m stat_result\u001b[38;5;241m.\u001b[39mst_size \u001b[38;5;241m<\u001b[39m\u001b[38;5;241m=\u001b[39m \u001b[38;5;241m0\u001b[39m:\n\u001b[1;32m    104\u001b[0m     \u001b[38;5;28;01mraise\u001b[39;00m ImageFileError(\u001b[38;5;124mf\u001b[39m\u001b[38;5;124m\"\u001b[39m\u001b[38;5;124mEmpty file: \u001b[39m\u001b[38;5;124m'\u001b[39m\u001b[38;5;132;01m{\u001b[39;00mfilename\u001b[38;5;132;01m}\u001b[39;00m\u001b[38;5;124m'\u001b[39m\u001b[38;5;124m\"\u001b[39m)\n",
      "\u001b[0;31mFileNotFoundError\u001b[0m: No such file or no access: 'data/raw/MICCAI_BraTS2020_TrainingData/BraTS20_Training_001/BraTS20_Training_001_t1.nii'"
     ]
    }
   ],
   "source": [
    "nii_loader = g.Nii_loader()"
   ]
  },
  {
   "cell_type": "code",
   "execution_count": 29,
   "metadata": {},
   "outputs": [],
   "source": [
    "import pickle\n",
    "\n",
    "def load_supervoxels(filename: str):\n",
    "    with open(filename, 'rb') as f:\n",
    "        list_of_supervoxels = pickle.load(f)\n",
    "    return list_of_supervoxels\n",
    "\n"
   ]
  },
  {
   "cell_type": "code",
   "execution_count": 30,
   "metadata": {},
   "outputs": [],
   "source": [
    "from graph_generation import SuperVoxel, Voxel"
   ]
  },
  {
   "cell_type": "code",
   "execution_count": 31,
   "metadata": {},
   "outputs": [
    {
     "ename": "FileNotFoundError",
     "evalue": "[Errno 2] No such file or directory: '../../pickleGraphTest.pkl'",
     "output_type": "error",
     "traceback": [
      "\u001b[0;31m---------------------------------------------------------------------------\u001b[0m",
      "\u001b[0;31mFileNotFoundError\u001b[0m                         Traceback (most recent call last)",
      "Cell \u001b[0;32mIn[31], line 1\u001b[0m\n\u001b[0;32m----> 1\u001b[0m l \u001b[38;5;241m=\u001b[39m \u001b[43mload_supervoxels\u001b[49m\u001b[43m(\u001b[49m\u001b[38;5;124;43m\"\u001b[39;49m\u001b[38;5;124;43m../../pickleGraphTest.pkl\u001b[39;49m\u001b[38;5;124;43m\"\u001b[39;49m\u001b[43m)\u001b[49m\n",
      "Cell \u001b[0;32mIn[29], line 4\u001b[0m, in \u001b[0;36mload_supervoxels\u001b[0;34m(filename)\u001b[0m\n\u001b[1;32m      3\u001b[0m \u001b[38;5;28;01mdef\u001b[39;00m \u001b[38;5;21mload_supervoxels\u001b[39m(filename: \u001b[38;5;28mstr\u001b[39m):\n\u001b[0;32m----> 4\u001b[0m     \u001b[38;5;28;01mwith\u001b[39;00m \u001b[38;5;28;43mopen\u001b[39;49m\u001b[43m(\u001b[49m\u001b[43mfilename\u001b[49m\u001b[43m,\u001b[49m\u001b[43m \u001b[49m\u001b[38;5;124;43m'\u001b[39;49m\u001b[38;5;124;43mrb\u001b[39;49m\u001b[38;5;124;43m'\u001b[39;49m\u001b[43m)\u001b[49m \u001b[38;5;28;01mas\u001b[39;00m f:\n\u001b[1;32m      5\u001b[0m         list_of_supervoxels \u001b[38;5;241m=\u001b[39m pickle\u001b[38;5;241m.\u001b[39mload(f)\n\u001b[1;32m      6\u001b[0m     \u001b[38;5;28;01mreturn\u001b[39;00m list_of_supervoxels\n",
      "File \u001b[0;32m~/projects/thesis/venv/lib/python3.10/site-packages/IPython/core/interactiveshell.py:308\u001b[0m, in \u001b[0;36m_modified_open\u001b[0;34m(file, *args, **kwargs)\u001b[0m\n\u001b[1;32m    301\u001b[0m \u001b[38;5;28;01mif\u001b[39;00m file \u001b[38;5;129;01min\u001b[39;00m {\u001b[38;5;241m0\u001b[39m, \u001b[38;5;241m1\u001b[39m, \u001b[38;5;241m2\u001b[39m}:\n\u001b[1;32m    302\u001b[0m     \u001b[38;5;28;01mraise\u001b[39;00m \u001b[38;5;167;01mValueError\u001b[39;00m(\n\u001b[1;32m    303\u001b[0m         \u001b[38;5;124mf\u001b[39m\u001b[38;5;124m\"\u001b[39m\u001b[38;5;124mIPython won\u001b[39m\u001b[38;5;124m'\u001b[39m\u001b[38;5;124mt let you open fd=\u001b[39m\u001b[38;5;132;01m{\u001b[39;00mfile\u001b[38;5;132;01m}\u001b[39;00m\u001b[38;5;124m by default \u001b[39m\u001b[38;5;124m\"\u001b[39m\n\u001b[1;32m    304\u001b[0m         \u001b[38;5;124m\"\u001b[39m\u001b[38;5;124mas it is likely to crash IPython. If you know what you are doing, \u001b[39m\u001b[38;5;124m\"\u001b[39m\n\u001b[1;32m    305\u001b[0m         \u001b[38;5;124m\"\u001b[39m\u001b[38;5;124myou can use builtins\u001b[39m\u001b[38;5;124m'\u001b[39m\u001b[38;5;124m open.\u001b[39m\u001b[38;5;124m\"\u001b[39m\n\u001b[1;32m    306\u001b[0m     )\n\u001b[0;32m--> 308\u001b[0m \u001b[38;5;28;01mreturn\u001b[39;00m \u001b[43mio_open\u001b[49m\u001b[43m(\u001b[49m\u001b[43mfile\u001b[49m\u001b[43m,\u001b[49m\u001b[43m \u001b[49m\u001b[38;5;241;43m*\u001b[39;49m\u001b[43margs\u001b[49m\u001b[43m,\u001b[49m\u001b[43m \u001b[49m\u001b[38;5;241;43m*\u001b[39;49m\u001b[38;5;241;43m*\u001b[39;49m\u001b[43mkwargs\u001b[49m\u001b[43m)\u001b[49m\n",
      "\u001b[0;31mFileNotFoundError\u001b[0m: [Errno 2] No such file or directory: '../../pickleGraphTest.pkl'"
     ]
    }
   ],
   "source": [
    "l = load_supervoxels(\"../../pickleGraphTest.pkl\")"
   ]
  },
  {
   "cell_type": "code",
   "execution_count": 9,
   "metadata": {},
   "outputs": [
    {
     "name": "stdout",
     "output_type": "stream",
     "text": [
      "total 1276\n",
      "drwxr-xr-x 10 tryfonm tryfonm   4096 May 25 04:51 .\n",
      "drwxr-xr-x 41 tryfonm tryfonm   4096 Apr 27 17:30 ..\n",
      "drwxr-xr-x  8 tryfonm tryfonm   4096 May 23 02:48 .git\n",
      "-rw-r--r--  1 tryfonm tryfonm     93 Feb 12 00:07 .gitignore\n",
      "-rw-r--r--  1 tryfonm tryfonm    725 Dec  1 22:12 Makefile\n",
      "drwxr-xr-x  2 tryfonm tryfonm   4096 May  7 16:51 backup\n",
      "drwxr-xr-x  4 tryfonm tryfonm   4096 May 23 22:40 data\n",
      "drwxr-xr-x  2 tryfonm tryfonm   4096 Feb 23 13:35 models\n",
      "drwxr-xr-x  4 tryfonm tryfonm   4096 May 23 21:49 notebooks\n",
      "-rw-r--r--  1 tryfonm tryfonm    233 May 10 16:23 notes\n",
      "-rw-r--r--  1 tryfonm tryfonm 817680 May 25 04:51 pickleGraphTest.py\n",
      "-rw-r--r--  1 tryfonm tryfonm   1624 Nov 19  2023 requirements_backup.txt\n",
      "drwxr-xr-x  3 tryfonm tryfonm   4096 Dec  1 22:12 runs\n",
      "-rw-r--r--  1 tryfonm tryfonm    901 Apr  5 10:27 sista_error\n",
      "-rw-r--r--  1 tryfonm tryfonm 423376 May 23 22:31 someRandomGraph.pt\n",
      "drwxr-xr-x  4 tryfonm tryfonm   4096 Nov 19  2023 src\n",
      "drwxr-xr-x  7 tryfonm tryfonm   4096 Nov 19  2023 venv\n"
     ]
    }
   ],
   "source": [
    "!ls -la ../../"
   ]
  },
  {
   "cell_type": "code",
   "execution_count": null,
   "metadata": {},
   "outputs": [],
   "source": [
    "predictions = torch.zeros_like(torch.tensor(sample_image))\n",
    "for sv_index, sv in enumerate(list_of_supervoxels):\n",
    "    indices = tuple(zip(*sv.list_of_voxel_indices))\n",
    "    predictions[indices] = predicted_labels[sv_index]"
   ]
  }
 ],
 "metadata": {
  "kernelspec": {
   "display_name": "venv",
   "language": "python",
   "name": "python3"
  },
  "language_info": {
   "codemirror_mode": {
    "name": "ipython",
    "version": 3
   },
   "file_extension": ".py",
   "mimetype": "text/x-python",
   "name": "python",
   "nbconvert_exporter": "python",
   "pygments_lexer": "ipython3",
   "version": "3.11.9"
  }
 },
 "nbformat": 4,
 "nbformat_minor": 2
}
